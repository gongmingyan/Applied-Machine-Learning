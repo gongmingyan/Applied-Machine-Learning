{
 "cells": [
  {
   "cell_type": "code",
   "execution_count": 6,
   "metadata": {},
   "outputs": [],
   "source": [
    "import numpy as np\n",
    "import math\n",
    "import pandas as pd\n",
    "import cv2\n",
    "import matplotlib.pyplot as plt"
   ]
  },
  {
   "cell_type": "code",
   "execution_count": 7,
   "metadata": {},
   "outputs": [],
   "source": [
    "from struct import unpack\n",
    "import gzip\n",
    "import numpy as np\n",
    "from numpy import zeros, uint8, float32\n",
    "\n",
    "def get_labeled_data(imagefile, labelfile):\n",
    "    \"\"\"Read input-vector (image) and target class (label, 0-9) and return\n",
    "       it as list of tuples.\n",
    "    \"\"\"\n",
    "    # Open the images with gzip in read binary mode\n",
    "    images = gzip.open(imagefile, 'rb')\n",
    "    labels = gzip.open(labelfile, 'rb')\n",
    "\n",
    "    # Read the binary data\n",
    "\n",
    "    # We have to get big endian unsigned int. So we need '>I'\n",
    "\n",
    "    # Get metadata for images\n",
    "    images.read(4)  # skip the magic_number\n",
    "    number_of_images = images.read(4)\n",
    "    number_of_images = unpack('>I', number_of_images)[0]\n",
    "    rows = images.read(4)\n",
    "    rows = unpack('>I', rows)[0]\n",
    "    cols = images.read(4)\n",
    "    cols = unpack('>I', cols)[0]\n",
    "\n",
    "    # Get metadata for labels\n",
    "    labels.read(4)  # skip the magic_number\n",
    "    N = labels.read(4)\n",
    "    N = unpack('>I', N)[0]\n",
    "\n",
    "    if number_of_images != N:\n",
    "        raise Exception('number of labels did not match the number of images')\n",
    "\n",
    "    # Get the data\n",
    "    x = zeros((N, rows, cols), dtype=float32)  # Initialize numpy array\n",
    "    y = zeros((N, 1), dtype=uint8)  # Initialize numpy array\n",
    "    for i in range(N):\n",
    "        #if i % 1000 == 0:\n",
    "           # print(\"i: %i\" % i)\n",
    "        for row in range(rows):\n",
    "            for col in range(cols):\n",
    "                tmp_pixel = images.read(1)  # Just a single byte\n",
    "                tmp_pixel = unpack('>B', tmp_pixel)[0]\n",
    "                x[i][row][col] = tmp_pixel\n",
    "        tmp_label = labels.read(1)\n",
    "        y[i] = unpack('>B', tmp_label)[0]\n",
    "    return (x, y)"
   ]
  },
  {
   "cell_type": "code",
   "execution_count": 8,
   "metadata": {},
   "outputs": [],
   "source": [
    "def resize(imagefile):\n",
    "    num, row, col=imagefile.shape\n",
    "    imagefile_resized = np.zeros((num,20,20))\n",
    "    for i in range (num):\n",
    "        temp=np.zeros((28,28))\n",
    "        temp = np.clip(imagefile[i], 0, 255)\n",
    "        temp = np.clip(imagefile[i], 0, 255).astype('uint8')\n",
    "        contours=cv2.findContours(temp,cv2.RETR_EXTERNAL,cv2.CHAIN_APPROX_SIMPLE)\n",
    "        cnt = contours[0]\n",
    "        x,y,w,h=cv2.boundingRect(cnt)    \n",
    "        num_only=cnt[y:y+h,x:x+w]\n",
    "        stretched =cv2.resize(num_only,(20,20))#     plt.imshow(stretched,cmap='Greys',interpolation='nearest')\n",
    "#     plt.show()\n",
    "#     print(stretched.shape)\n",
    "        imagefile_resized[i]=stretched\n",
    "    return imagefile_resized"
   ]
  },
  {
   "cell_type": "code",
   "execution_count": 9,
   "metadata": {},
   "outputs": [],
   "source": [
    "def normalize(data):  \n",
    "    m,n,x = np.array(data).shape\n",
    "    data1 = np.zeros((m,n,x))\n",
    "    for i in range(m):\n",
    "        for j in range(n):\n",
    "            for k in range(x):\n",
    "                if data[i,j,k] > 127:\n",
    "                    data1[i,j,k] = 1\n",
    "                else:\n",
    "                    data1[i,j,k] = 0\n",
    "    return data1"
   ]
  },
  {
   "cell_type": "code",
   "execution_count": 10,
   "metadata": {},
   "outputs": [],
   "source": [
    "def CalProb(train_data,train_label):\n",
    "    num,row,col = train_data.shape\n",
    "    #labelnum = len(set(train_label)) \n",
    "    pyj = np.zeros(10)\n",
    "    pyjk = np.zeros((10,row,col))\n",
    "    for i in range(num):\n",
    "        label = train_label[i]\n",
    "        pyj[label] = pyj[label] + 1 \n",
    "        if label == 0:\n",
    "            for j in range(row):\n",
    "                for k in range(col):\n",
    "                    pyjk[0][j][k] = pyjk[0][j][k] + train_data[i][j][k]\n",
    "        if label == 1:\n",
    "            for j in range(row):\n",
    "                for k in range(col):\n",
    "                    pyjk[1][j][k] = pyjk[1][j][k] + train_data[i][j][k]\n",
    "        if label == 2:\n",
    "            for j in range(row):\n",
    "                for k in range(col):\n",
    "                    pyjk[2][j][k] = pyjk[2][j][k] + train_data[i][j][k]\n",
    "        if label == 3:\n",
    "            for j in range(row):\n",
    "                for k in range(col):\n",
    "                    pyjk[3][j][k] = pyjk[3][j][k] + train_data[i][j][k]\n",
    "        if label == 4:\n",
    "            for j in range(row):\n",
    "                for k in range(col):\n",
    "                    pyjk[4][j][k] = pyjk[4][j][k] + train_data[i][j][k]\n",
    "        if label == 5:\n",
    "            for j in range(row):\n",
    "                for k in range(col):\n",
    "                    pyjk[5][j][k] = pyjk[5][j][k] + train_data[i][j][k]\n",
    "        if label == 6:\n",
    "            for j in range(row):\n",
    "                for k in range(col):\n",
    "                    pyjk[6][j][k] = pyjk[6][j][k] + train_data[i][j][k]\n",
    "        if label == 7:\n",
    "            for j in range(row):\n",
    "                for k in range(col):\n",
    "                    pyjk[7][j][k] = pyjk[7][j][k] + train_data[i][j][k]\n",
    "        if label == 8:\n",
    "            for j in range(row):\n",
    "                for k in range(col):\n",
    "                    pyjk[8][j][k] = pyjk[8][j][k] + train_data[i][j][k]\n",
    "        if label == 9:\n",
    "            for j in range(row):\n",
    "                for k in range(col):\n",
    "                    pyjk[9][j][k] = pyjk[9][j][k] + train_data[i][j][k] \n",
    "    #print('pyj个数：',pyj)\n",
    "    pyjk = (pyjk.T + 1) / (pyj + 2) \n",
    "    pyj = (pyj + 1) / (num + 10) \n",
    "    return  pyj, pyjk"
   ]
  },
  {
   "cell_type": "code",
   "execution_count": 11,
   "metadata": {},
   "outputs": [],
   "source": [
    "def CalBerProb(xk,pyjk): \n",
    "    return xk * np.log(pyjk) + (1-xk) * np.log(1-pyjk)"
   ]
  },
  {
   "cell_type": "code",
   "execution_count": 19,
   "metadata": {},
   "outputs": [],
   "source": [
    "def predictBer(test_data,test_label,pyjk,pyj):  \n",
    "    num,row,col = test_data.shape\n",
    "    acc = 0\n",
    "    for i in range(num):\n",
    "        p = np.log(pyj)\n",
    "        testdata = test_data[i]\n",
    "        for j in range(row): \n",
    "            for k in range(col):\n",
    "                xk = testdata[j][k]\n",
    "                p[0] = p[0] + CalBerProb(xk,pyjk.T[0][j][k])\n",
    "                p[1] = p[1] + CalBerProb(xk,pyjk.T[1][j][k])\n",
    "                p[2] = p[2] + CalBerProb(xk,pyjk.T[2][j][k])\n",
    "                p[3] = p[3] + CalBerProb(xk,pyjk.T[3][j][k])\n",
    "                p[4] = p[4] + CalBerProb(xk,pyjk.T[4][j][k])\n",
    "                p[5] = p[5] + CalBerProb(xk,pyjk.T[5][j][k])\n",
    "                p[6] = p[6] + CalBerProb(xk,pyjk.T[6][j][k])\n",
    "                p[7] = p[7] + CalBerProb(xk,pyjk.T[7][j][k])\n",
    "                p[8] = p[8] + CalBerProb(xk,pyjk.T[8][j][k])\n",
    "                p[9] = p[9] + CalBerProb(xk,pyjk.T[9][j][k])\n",
    "        p = np.argmax(p)\n",
    "        acc = acc + (p == test_label[i])\n",
    "        #print('real is: ',test_label[i],'  predict is: ',p)\n",
    "    print('Test accuracy is: ', acc/num)"
   ]
  },
  {
   "cell_type": "code",
   "execution_count": 21,
   "metadata": {},
   "outputs": [],
   "source": [
    "def BerNB():\n",
    "    imagefile = 'train-images-idx3-ubyte.gz'\n",
    "    labelfile = 'train-labels-idx1-ubyte.gz'\n",
    "    imagefile2 = 't10k-images-idx3-ubyte.gz'\n",
    "    labelfile2 = 't10k-labels-idx1-ubyte.gz'\n",
    "    train_data, train_label = get_labeled_data(imagefile, labelfile)\n",
    "    test_data, test_label = get_labeled_data(imagefile2, labelfile2)\n",
    "    train1 = normalize(train_data)\n",
    "    test1 = normalize(test_data)\n",
    "    pyj, pyjk = CalProb(train1,train_label)\n",
    "    predictBer(test1, test_label, pyjk, pyj)"
   ]
  },
  {
   "cell_type": "code",
   "execution_count": 22,
   "metadata": {},
   "outputs": [
    {
     "name": "stdout",
     "output_type": "stream",
     "text": [
      "Test accuracy is:  [0.8427]\n"
     ]
    }
   ],
   "source": [
    "BerNB()"
   ]
  },
  {
   "cell_type": "code",
   "execution_count": 23,
   "metadata": {},
   "outputs": [],
   "source": [
    "def BerNB_scratch():\n",
    "    imagefile = 'train-images-idx3-ubyte.gz'\n",
    "    labelfile = 'train-labels-idx1-ubyte.gz'\n",
    "    imagefile2 = 't10k-images-idx3-ubyte.gz'\n",
    "    labelfile2 = 't10k-labels-idx1-ubyte.gz'\n",
    "    train_data, train_label = get_labeled_data(imagefile, labelfile)\n",
    "    test_data, test_label = get_labeled_data(imagefile2, labelfile2)\n",
    "    train1 = normalize(train_data)\n",
    "    test1 = normalize(test_data)\n",
    "    train = resize(train1)\n",
    "    test = resize(test1)\n",
    "    pyj, pyjk = CalProb(train,train_label)\n",
    "    predictBer(test, test_label, pyjk, pyj)"
   ]
  },
  {
   "cell_type": "code",
   "execution_count": 24,
   "metadata": {},
   "outputs": [
    {
     "name": "stdout",
     "output_type": "stream",
     "text": [
      "Test accuracy is:  [0.8324]\n"
     ]
    }
   ],
   "source": [
    "BerNB_scratch()"
   ]
  },
  {
   "cell_type": "code",
   "execution_count": 18,
   "metadata": {},
   "outputs": [],
   "source": [
    "def BerNB_traintest():\n",
    "    imagefile = 'train-images-idx3-ubyte.gz'\n",
    "    labelfile = 'train-labels-idx1-ubyte.gz'\n",
    "    train_data, train_label = get_labeled_data(imagefile, labelfile)\n",
    "    test_label = train_label\n",
    "    train1 = normalize(train_data)\n",
    "    test1 = train1\n",
    "    pyj, pyjk = CalProb(train1,train_label)\n",
    "    predictBer(test1, test_label, pyjk, pyj)"
   ]
  },
  {
   "cell_type": "code",
   "execution_count": 15,
   "metadata": {},
   "outputs": [
    {
     "name": "stdout",
     "output_type": "stream",
     "text": [
      "Test accuracy is:  [0.83576667]\n"
     ]
    }
   ],
   "source": [
    "BerNB_traintest()"
   ]
  },
  {
   "cell_type": "code",
   "execution_count": 17,
   "metadata": {},
   "outputs": [],
   "source": [
    "def BerNB_traintest_stretched():\n",
    "    imagefile = 'train-images-idx3-ubyte.gz'\n",
    "    labelfile = 'train-labels-idx1-ubyte.gz'\n",
    "    train_data, train_label = get_labeled_data(imagefile, labelfile)\n",
    "    test_label = train_label\n",
    "    train_data1 = resize(train_data)\n",
    "    train1 = normalize(train_data1)\n",
    "    test1 = train1\n",
    "    pyj, pyjk = CalProb(train1,train_label)\n",
    "    predictBer(test1, test_label, pyjk, pyj)"
   ]
  },
  {
   "cell_type": "code",
   "execution_count": 20,
   "metadata": {},
   "outputs": [
    {
     "name": "stdout",
     "output_type": "stream",
     "text": [
      "Test accuracy is:  [0.81345]\n"
     ]
    }
   ],
   "source": [
    "BerNB_traintest_stretched()"
   ]
  },
  {
   "cell_type": "code",
   "execution_count": null,
   "metadata": {},
   "outputs": [],
   "source": []
  }
 ],
 "metadata": {
  "kernelspec": {
   "display_name": "Python 3",
   "language": "python",
   "name": "python3"
  },
  "language_info": {
   "codemirror_mode": {
    "name": "ipython",
    "version": 3
   },
   "file_extension": ".py",
   "mimetype": "text/x-python",
   "name": "python",
   "nbconvert_exporter": "python",
   "pygments_lexer": "ipython3",
   "version": "3.6.5"
  }
 },
 "nbformat": 4,
 "nbformat_minor": 2
}
