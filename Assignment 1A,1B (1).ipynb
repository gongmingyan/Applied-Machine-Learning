{
 "cells": [
  {
   "cell_type": "code",
   "execution_count": 254,
   "metadata": {},
   "outputs": [],
   "source": [
    "import numpy as np\n",
    "import pandas as pd\n",
    "import math"
   ]
  },
  {
   "cell_type": "code",
   "execution_count": 296,
   "metadata": {},
   "outputs": [],
   "source": [
    "# 1A\n",
    "def read(filename):\n",
    "    data_raw = pd.read_csv(filename)\n",
    "    print ('The total number of rows for original dataframe are:', data_raw.iloc[:,0].size)\n",
    "    print ('The total number of columns for original dataframe are:', data_raw.columns.size)\n",
    "    return data_raw"
   ]
  },
  {
   "cell_type": "code",
   "execution_count": 308,
   "metadata": {},
   "outputs": [],
   "source": [
    "def randomSp(data_raw, sd):\n",
    "    arr = data_raw.values.reshape(data_raw.iloc[:,0].size, data_raw.columns.size)\n",
    "    name, data = np.vsplit(arr,[1])\n",
    "    np.random.seed(seed = sd)\n",
    "    np.random.shuffle(data)\n",
    "    n = math.ceil((data_raw.iloc[:,0].size/5))+1\n",
    "    arr1,arr2,arr3,arr4,arr5 = np.split(data,[n,2*n,3*n,4*n])\n",
    "    df1 = pd.DataFrame(arr1)\n",
    "    df2 = pd.DataFrame(arr2)\n",
    "    df3 = pd.DataFrame(arr3)\n",
    "    df4 = pd.DataFrame(arr4)\n",
    "    df5 = pd.DataFrame(arr5)\n",
    "    df1.columns = ['Pregancies', 'Glucose','BloodPressure','SkinThickness','Insulin','BMI','DPF','Age','Class']\n",
    "    df2.columns = ['Pregancies', 'Glucose','BloodPressure','SkinThickness','Insulin','BMI','DPF','Age','Class']\n",
    "    df3.columns = ['Pregancies', 'Glucose','BloodPressure','SkinThickness','Insulin','BMI','DPF','Age','Class']\n",
    "    df4.columns = ['Pregancies', 'Glucose','BloodPressure','SkinThickness','Insulin','BMI','DPF','Age','Class']\n",
    "    df5.columns = ['Pregancies', 'Glucose','BloodPressure','SkinThickness','Insulin','BMI','DPF','Age','Class']\n",
    "    frames = [df2, df3, df4, df5]\n",
    "    train = pd.concat(frames, ignore_index=True)\n",
    "    test = df1\n",
    "    return [train,test]"
   ]
  },
  {
   "cell_type": "code",
   "execution_count": 309,
   "metadata": {},
   "outputs": [],
   "source": [
    "def calculateFeature(dataSet):\n",
    "    n_0 = dataSet['Class'][dataSet['Class'] == 0.0].count()\n",
    "    n_1 = dataSet['Class'][dataSet['Class'] == 1.0].count()\n",
    "    total = dataSet['Class'].count()\n",
    "    P_0 = n_0/total\n",
    "    P_1 = n_1/total\n",
    "    data_means = dataSet.groupby('Class').mean()\n",
    "    data_variance = dataSet.groupby('Class').var()\n",
    "    index = ['Pregancies', 'Glucose','BloodPressure','SkinThickness','Insulin','BMI','DPF','Age']\n",
    "    A_mean = {}\n",
    "    A_variance = {}\n",
    "    B_mean = {}\n",
    "    B_variance = {}\n",
    "    for i in range(8):\n",
    "        A_mean[i] = data_means[index[i]][data_means.index == 0.0].values[0]\n",
    "        A_variance[i] = data_variance[index[i]][data_variance.index == 0.0].values[0]\n",
    "        B_mean[i] = data_means[index[i]][data_means.index == 1.0].values[0]\n",
    "        B_variance[i] = data_variance[index[i]][data_variance.index == 1.0].values[0]\n",
    "    return [P_0, P_1, A_mean, A_variance, B_mean, B_variance]"
   ]
  },
  {
   "cell_type": "code",
   "execution_count": 327,
   "metadata": {},
   "outputs": [],
   "source": [
    "def calculateProbability(x, mean_y, variance_y):\n",
    "    p = 1/(math.sqrt(2*math.pi*variance_y)) * math.exp((-(x-mean_y)**2)/(2*variance_y))\n",
    "    return p"
   ]
  },
  {
   "cell_type": "code",
   "execution_count": 328,
   "metadata": {},
   "outputs": [],
   "source": [
    "def predict(A_mean, A_variance, B_mean, B_variance, P_0, P_1, test):\n",
    "    index = ['Pregancies', 'Glucose','BloodPressure','SkinThickness','Insulin','BMI','DPF','Age']\n",
    "    Class = {}\n",
    "    p_0 = {}\n",
    "    p_1 = {}\n",
    "    for j in range(test.iloc[:,0].size):\n",
    "        p_0[j] = P_0\n",
    "        p_1[j] = P_1\n",
    "        for i in range(8):\n",
    "            #p_0[j] *= calculatePro(test[index[i]].values[j], A_mean[i], A_variance[i])\n",
    "            #p_1[j] *= calculatePro(test[index[i]].values[j], B_mean[i], B_variance[i])\n",
    "            p_0[j] *= calculateProbability(test[index[i]].values[j], A_mean[i], A_variance[i])\n",
    "            p_1[j] *= calculateProbability(test[index[i]].values[j], B_mean[i], B_variance[i])\n",
    "        if p_0[j] >= p_1[j]:\n",
    "            Class[j] = 0.0\n",
    "        else: \n",
    "            Class[j] = 1.0\n",
    "    return Class"
   ]
  },
  {
   "cell_type": "code",
   "execution_count": 329,
   "metadata": {},
   "outputs": [],
   "source": [
    "def prediction(Class,test):\n",
    "    true = 0\n",
    "    for i in range(len(Class)):\n",
    "        if Class[i] == test['Class'][i]:\n",
    "            true += 1\n",
    "    return (true/float(len(Class)))*100.0"
   ]
  },
  {
   "cell_type": "code",
   "execution_count": 377,
   "metadata": {},
   "outputs": [],
   "source": [
    "def mainA():\n",
    "    filename = 'diabetes.csv'\n",
    "    data_raw = read(filename)\n",
    "    Acc = {}\n",
    "    for sd in range(10):\n",
    "        train,test = randomSp(data_raw, sd)\n",
    "        P_0, P_1, A_mean, A_variance, B_mean, B_variance = calculateFeature(train)\n",
    "        Class = predict(A_mean, A_variance, B_mean, B_variance, P_0, P_1, test)\n",
    "        Acc[sd] = prediction(Class,test)\n",
    "    print('The accuarcies for 10 times is:',Acc)\n",
    "    m = 0\n",
    "    for i in range(len(Acc)):\n",
    "        m += Acc[i]\n",
    "    Av_Acc = m/len(Acc)\n",
    "    print('The mean accuarcy is:',Av_Acc)    "
   ]
  },
  {
   "cell_type": "code",
   "execution_count": 378,
   "metadata": {
    "scrolled": true
   },
   "outputs": [
    {
     "name": "stdout",
     "output_type": "stream",
     "text": [
      "The total number of rows for original dataframe are: 768\n",
      "The total number of columns for original dataframe are: 9\n",
      "The accuarcies for 10 times is: {0: 80.64516129032258, 1: 73.54838709677419, 2: 78.06451612903226, 3: 73.54838709677419, 4: 76.12903225806451, 5: 76.12903225806451, 6: 75.48387096774194, 7: 78.06451612903226, 8: 77.41935483870968, 9: 72.90322580645162}\n",
      "The mean accuarcy is: 76.19354838709675\n"
     ]
    }
   ],
   "source": [
    "mainA()"
   ]
  },
  {
   "cell_type": "code",
   "execution_count": 346,
   "metadata": {},
   "outputs": [],
   "source": [
    "#1B\n",
    "def calculateFeature2(dataSet):\n",
    "    n_0 = dataSet['Class'][dataSet['Class'] == 0.0].count()\n",
    "    n_1 = dataSet['Class'][dataSet['Class'] == 1.0].count()\n",
    "    total = dataSet['Class'].count()\n",
    "    P_0 = n_0/total\n",
    "    P_1 = n_1/total\n",
    "    index = ['Pregancies', 'Glucose','BloodPressure','SkinThickness','Insulin','BMI','DPF','Age']\n",
    "    A_variance = {}\n",
    "    B_mean = {}\n",
    "    B_variance = {}\n",
    "    count_0 = [0,0,0,0,0,0,0,0]\n",
    "    tal_0 = [0,0,0,0,0,0,0,0]\n",
    "    count_1 = [0,0,0,0,0,0,0,0]\n",
    "    tal_1 = [0,0,0,0,0,0,0,0]\n",
    "    var_0 = [0,0,0,0,0,0,0,0]\n",
    "    con_0 = [0,0,0,0,0,0,0,0]\n",
    "    var_1 = [0,0,0,0,0,0,0,0]\n",
    "    con_1 = [0,0,0,0,0,0,0,0]\n",
    "    for i in [2,3,5,7]:\n",
    "        for m in range(dataSet.iloc[:,0].size):\n",
    "            if dataSet['Class'][m] == 0.0:\n",
    "                if dataSet[index[i]][m] == 0.0:\n",
    "                    count_0[i] = count_0[i] \n",
    "                    tal_0[i] = tal_0[i] + dataSet[index[i]][m]\n",
    "                else:\n",
    "                    count_0[i] = count_0[i] + 1\n",
    "                    tal_0[i] = tal_0[i] + dataSet[index[i]][m]\n",
    "            else:\n",
    "                if dataSet[index[i]][m] == 0.0:\n",
    "                    count_1[i] = count_1[i] \n",
    "                    tal_1[i] = tal_1[i] + dataSet[index[i]][m]\n",
    "                else:\n",
    "                    count_1[i] = count_1[i] + 1\n",
    "                    tal_1[i] = tal_1[i] + dataSet[index[i]][m]\n",
    "        A_mean[i] = tal_0[i]/count_0[i]\n",
    "        B_mean[i] = tal_1[i]/count_1[i]\n",
    "    for i in [2,3,5,7]:\n",
    "        for m in range(dataSet.iloc[:,0].size):\n",
    "            if dataSet['Class'][m] == 0.0:\n",
    "                if dataSet[index[i]][m] == 0.0:\n",
    "                    con_0[i] = con_0[i] \n",
    "                    var_0[i] = var_0[i]\n",
    "                else:\n",
    "                    con_0[i] = con_0[i] + 1\n",
    "                    var_0[i] = var_0[i] + math.pow((dataSet[index[i]][m]-A_mean[i]),2)\n",
    "            else:\n",
    "                if dataSet[index[i]][m] == 0.0:\n",
    "                    con_1[i] = con_1[i] \n",
    "                    var_1[i] = var_1[i]\n",
    "                else:\n",
    "                    con_1[i] = con_1[i] + 1\n",
    "                    var_1[i] = var_1[i] + math.pow((dataSet[index[i]][m]-A_mean[i]),2)\n",
    "        A_variance[i] = var_0[i]/con_0[i]\n",
    "        B_variance[i] = var_1[i]/con_1[i]\n",
    "    data_means = dataSet.groupby('Class').mean()\n",
    "    data_variance = dataSet.groupby('Class').var()\n",
    "    for i in [0,1,4,6]:\n",
    "        A_mean[i] = data_means[index[i]][data_means.index == 0.0].values[0]\n",
    "        A_variance[i] = data_variance[index[i]][data_variance.index == 0.0].values[0]\n",
    "        B_mean[i] = data_means[index[i]][data_means.index == 1.0].values[0]\n",
    "        B_variance[i] = data_variance[index[i]][data_variance.index == 1.0].values[0]\n",
    "    return [P_0, P_1, A_mean, A_variance, B_mean, B_variance]"
   ]
  },
  {
   "cell_type": "code",
   "execution_count": 371,
   "metadata": {},
   "outputs": [],
   "source": [
    "def predict2(A_mean, A_variance, B_mean, B_variance, P_0, P_1, test):\n",
    "    index = ['Pregancies', 'Glucose','BloodPressure','SkinThickness','Insulin','BMI','DPF','Age']\n",
    "    Class = {}\n",
    "    p_0 = {}\n",
    "    p_1 = {}\n",
    "    for j in range(test.iloc[:,0].size):\n",
    "        p_0[j] = P_0\n",
    "        p_1[j] = P_1\n",
    "        for i in [2,3,5,7]:\n",
    "            if test[index[i]].values[j] != 0.0:\n",
    "            #p_0[j] *= calculatePro(test[index[i]].values[j], A_mean[i], A_variance[i])\n",
    "            #p_1[j] *= calculatePro(test[index[i]].values[j], B_mean[i], B_variance[i])\n",
    "                p_0[j] *= calculateProbability(test[index[i]].values[j], A_mean[i], A_variance[i])\n",
    "                p_1[j] *= calculateProbability(test[index[i]].values[j], B_mean[i], B_variance[i])\n",
    "        for i in [0,1,4,6]:\n",
    "            p_0[j] *= calculateProbability(test[index[i]].values[j], A_mean[i], A_variance[i])\n",
    "            p_1[j] *= calculateProbability(test[index[i]].values[j], B_mean[i], B_variance[i])\n",
    "        if p_0[j] >= p_1[j]:\n",
    "            Class[j] = 0.0\n",
    "        else: \n",
    "            Class[j] = 1.0\n",
    "    return Class"
   ]
  },
  {
   "cell_type": "code",
   "execution_count": 379,
   "metadata": {},
   "outputs": [],
   "source": [
    "def mainB():\n",
    "    filename = 'diabetes.csv'\n",
    "    data_raw = read(filename)\n",
    "    Acc = {}\n",
    "    for sd in range(10):\n",
    "        train,test = randomSp(data_raw, sd)\n",
    "        P_0, P_1, A_mean, A_variance, B_mean, B_variance = calculateFeature2(train)\n",
    "        Class = predict2(A_mean, A_variance, B_mean, B_variance, P_0, P_1, test)\n",
    "        Acc[sd] = prediction(Class,test)\n",
    "    print('The accuarcies for 10 times is:',Acc)\n",
    "    m = 0\n",
    "    for i in range(len(Acc)):\n",
    "        m += Acc[i]\n",
    "    Av_Acc = m/len(Acc)\n",
    "    print('The mean accuarcy is:',Av_Acc)    "
   ]
  },
  {
   "cell_type": "code",
   "execution_count": 380,
   "metadata": {
    "scrolled": true
   },
   "outputs": [
    {
     "name": "stdout",
     "output_type": "stream",
     "text": [
      "The total number of rows for original dataframe are: 768\n",
      "The total number of columns for original dataframe are: 9\n",
      "The accuarcies for 10 times is: {0: 78.70967741935485, 1: 70.3225806451613, 2: 74.83870967741936, 3: 70.96774193548387, 4: 72.90322580645162, 5: 75.48387096774194, 6: 69.6774193548387, 7: 76.12903225806451, 8: 78.06451612903226, 9: 71.61290322580646}\n",
      "The mean accuarcy is: 73.87096774193547\n"
     ]
    }
   ],
   "source": [
    "mainB()"
   ]
  }
 ],
 "metadata": {
  "kernelspec": {
   "display_name": "Python 3",
   "language": "python",
   "name": "python3"
  },
  "language_info": {
   "codemirror_mode": {
    "name": "ipython",
    "version": 3
   },
   "file_extension": ".py",
   "mimetype": "text/x-python",
   "name": "python",
   "nbconvert_exporter": "python",
   "pygments_lexer": "ipython3",
   "version": "3.6.5"
  }
 },
 "nbformat": 4,
 "nbformat_minor": 2
}
