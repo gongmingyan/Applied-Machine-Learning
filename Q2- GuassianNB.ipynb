{
 "cells": [
  {
   "cell_type": "code",
   "execution_count": 3,
   "metadata": {},
   "outputs": [],
   "source": [
    "import numpy as np\n",
    "import math\n",
    "import pandas as pd\n",
    "import cv2\n",
    "import matplotlib.pyplot as plt"
   ]
  },
  {
   "cell_type": "code",
   "execution_count": 4,
   "metadata": {},
   "outputs": [],
   "source": [
    "from struct import unpack\n",
    "import gzip\n",
    "import numpy as np\n",
    "from numpy import zeros, uint8, float32\n",
    "\n",
    "def get_labeled_data(imagefile, labelfile):\n",
    "    \"\"\"Read input-vector (image) and target class (label, 0-9) and return\n",
    "       it as list of tuples.\n",
    "    \"\"\"\n",
    "    # Open the images with gzip in read binary mode\n",
    "    images = gzip.open(imagefile, 'rb')\n",
    "    labels = gzip.open(labelfile, 'rb')\n",
    "\n",
    "    # Read the binary data\n",
    "\n",
    "    # We have to get big endian unsigned int. So we need '>I'\n",
    "\n",
    "    # Get metadata for images\n",
    "    images.read(4)  # skip the magic_number\n",
    "    number_of_images = images.read(4)\n",
    "    number_of_images = unpack('>I', number_of_images)[0]\n",
    "    rows = images.read(4)\n",
    "    rows = unpack('>I', rows)[0]\n",
    "    cols = images.read(4)\n",
    "    cols = unpack('>I', cols)[0]\n",
    "\n",
    "    # Get metadata for labels\n",
    "    labels.read(4)  # skip the magic_number\n",
    "    N = labels.read(4)\n",
    "    N = unpack('>I', N)[0]\n",
    "\n",
    "    if number_of_images != N:\n",
    "        raise Exception('number of labels did not match the number of images')\n",
    "\n",
    "    # Get the data\n",
    "    x = zeros((N, rows, cols), dtype=float32)  # Initialize numpy array\n",
    "    y = zeros((N, 1), dtype=uint8)  # Initialize numpy array\n",
    "    for i in range(N):\n",
    "        #if i % 1000 == 0:\n",
    "           # print(\"i: %i\" % i)\n",
    "        for row in range(rows):\n",
    "            for col in range(cols):\n",
    "                tmp_pixel = images.read(1)  # Just a single byte\n",
    "                tmp_pixel = unpack('>B', tmp_pixel)[0]\n",
    "                x[i][row][col] = tmp_pixel\n",
    "        tmp_label = labels.read(1)\n",
    "        y[i] = unpack('>B', tmp_label)[0]\n",
    "    return (x, y)"
   ]
  },
  {
   "cell_type": "code",
   "execution_count": 5,
   "metadata": {},
   "outputs": [],
   "source": [
    "def resize(imagefile):\n",
    "    num, row, col=imagefile.shape\n",
    "    imagefile_resized = np.zeros((num,20,20))\n",
    "    for i in range (num):\n",
    "        temp=np.zeros((28,28))\n",
    "        temp = np.clip(imagefile[i], 0, 255)\n",
    "        temp = np.clip(imagefile[i], 0, 255).astype('uint8')\n",
    "        contours=cv2.findContours(temp,cv2.RETR_EXTERNAL,cv2.CHAIN_APPROX_SIMPLE)\n",
    "        cnt = contours[0]\n",
    "        x,y,w,h=cv2.boundingRect(cnt)    \n",
    "        num_only=cnt[y:y+h,x:x+w]\n",
    "        stretched =cv2.resize(num_only,(20,20))#     plt.imshow(stretched,cmap='Greys',interpolation='nearest')\n",
    "#     plt.show()\n",
    "#     print(stretched.shape)\n",
    "        imagefile_resized[i]=stretched\n",
    "    return imagefile_resized"
   ]
  },
  {
   "cell_type": "code",
   "execution_count": 6,
   "metadata": {},
   "outputs": [],
   "source": [
    "def normalize(data):  ##将图片像素二值化\n",
    "    m,n,x = np.array(data).shape\n",
    "    data1 = np.zeros((m,n,x))\n",
    "    for i in range(m):\n",
    "        for j in range(n):\n",
    "            for k in range(x):\n",
    "                if data[i,j,k] > 127:\n",
    "                    data1[i,j,k] = 1\n",
    "                else:\n",
    "                    data1[i,j,k] = 0\n",
    "    return data1"
   ]
  },
  {
   "cell_type": "code",
   "execution_count": 7,
   "metadata": {},
   "outputs": [],
   "source": [
    "def getMean(train_data, train_label):\n",
    "    num, row ,col = train_data.shape\n",
    "    numj = np.zeros(10)\n",
    "    Mean = np.zeros((10,row,col))\n",
    "    pyjk1 = np.zeros((10,row,col))\n",
    "    pyj = np.zeros(10)\n",
    "    for i in range(num):\n",
    "        label = train_label[i]\n",
    "        numj[label] = numj[label] + 1 \n",
    "        if label == 0:\n",
    "            for j in range(row):\n",
    "                for k in range(col):\n",
    "                    Mean[0][j][k] = Mean[0][j][k] + train_data[i][j][k]\n",
    "        if label == 1:\n",
    "            for j in range(row):\n",
    "                for k in range(col):\n",
    "                    Mean[1][j][k] = Mean[1][j][k] + train_data[i][j][k]\n",
    "        if label == 2:\n",
    "            for j in range(row):\n",
    "                for k in range(col):\n",
    "                    Mean[2][j][k] = Mean[2][j][k] + train_data[i][j][k]\n",
    "        if label == 3:\n",
    "            for j in range(row):\n",
    "                for k in range(col):\n",
    "                    Mean[3][j][k] = Mean[3][j][k] + train_data[i][j][k]\n",
    "        if label == 4:\n",
    "            for j in range(row):\n",
    "                for k in range(col):\n",
    "                    Mean[4][j][k] = Mean[4][j][k] + train_data[i][j][k]\n",
    "        if label == 5:\n",
    "            for j in range(row):\n",
    "                for k in range(col):\n",
    "                    Mean[5][j][k] = Mean[5][j][k] + train_data[i][j][k]\n",
    "        if label == 6:\n",
    "            for j in range(row):\n",
    "                for k in range(col):\n",
    "                    Mean[6][j][k] = Mean[6][j][k] + train_data[i][j][k]\n",
    "        if label == 7:\n",
    "            for j in range(row):\n",
    "                for k in range(col):\n",
    "                    Mean[7][j][k] = Mean[7][j][k] + train_data[i][j][k]\n",
    "        if label == 8:\n",
    "            for j in range(row):\n",
    "                for k in range(col):\n",
    "                    Mean[8][j][k] = Mean[8][j][k] + train_data[i][j][k]\n",
    "        if label == 9:\n",
    "            for j in range(row):\n",
    "                for k in range(col):\n",
    "                    Mean[9][j][k] = Mean[9][j][k] + train_data[i][j][k]\n",
    "    mean = Mean.T/numj\n",
    "    pyjk = (mean + 1) / (numj + 2)\n",
    "    pyj = (numj + 1) / (num + 10)\n",
    "    return  mean, pyj, pyjk"
   ]
  },
  {
   "cell_type": "code",
   "execution_count": 8,
   "metadata": {},
   "outputs": [],
   "source": [
    "def getVar(train_data, train_label, mean):\n",
    "    num, row ,col = train_data.shape\n",
    "    numj = np.zeros(10)\n",
    "    var = np.zeros((10,row,col))\n",
    "    for i in range(num):\n",
    "        label = train_label[i]\n",
    "        numj[label] = numj[label] + 1 \n",
    "        if label == 0:\n",
    "            for j in range(row):\n",
    "                for k in range(col):\n",
    "                    var[0][j][k] = var[0][j][k] + math.pow((train_data[i][j][k]-mean.T[0][j][k]),2)\n",
    "        if label == 1:\n",
    "            for j in range(row):\n",
    "                for k in range(col):\n",
    "                    var[1][j][k] = var[1][j][k] + math.pow((train_data[i][j][k]-mean.T[1][j][k]),2)\n",
    "        if label == 2:\n",
    "            for j in range(row):\n",
    "                for k in range(col):\n",
    "                    var[2][j][k] = var[2][j][k] + math.pow((train_data[i][j][k]-mean.T[2][j][k]),2)\n",
    "        if label == 3:\n",
    "            for j in range(row):\n",
    "                for k in range(col):\n",
    "                    var[3][j][k] = var[3][j][k] + math.pow((train_data[i][j][k]-mean.T[3][j][k]),2)\n",
    "        if label == 4:\n",
    "            for j in range(row):\n",
    "                for k in range(col):\n",
    "                    var[4][j][k] = var[4][j][k] + math.pow((train_data[i][j][k]-mean.T[4][j][k]),2)\n",
    "        if label == 5:\n",
    "            for j in range(row):\n",
    "                for k in range(col):\n",
    "                    var[5][j][k] = var[5][j][k] + math.pow((train_data[i][j][k]-mean.T[5][j][k]),2)\n",
    "        if label == 6:\n",
    "            for j in range(row):\n",
    "                for k in range(col):\n",
    "                    var[6][j][k] = var[6][j][k] + math.pow((train_data[i][j][k]-mean.T[6][j][k]),2)\n",
    "        if label == 7:\n",
    "            for j in range(row):\n",
    "                for k in range(col):\n",
    "                    var[7][j][k] = var[7][j][k] + math.pow((train_data[i][j][k]-mean.T[7][j][k]),2)\n",
    "        if label == 8:\n",
    "            for j in range(row):\n",
    "                for k in range(col):\n",
    "                    var[8][j][k] = var[8][j][k] + math.pow((train_data[i][j][k]-mean.T[8][j][k]),2)\n",
    "        if label == 9:\n",
    "            for j in range(row):\n",
    "                for k in range(col):\n",
    "                    var[9][j][k] = var[9][j][k] + math.pow((train_data[i][j][k]-mean.T[9][j][k]),2)\n",
    "    Var = var.T/numj\n",
    "    return  Var, numj"
   ]
  },
  {
   "cell_type": "code",
   "execution_count": 9,
   "metadata": {},
   "outputs": [],
   "source": [
    "def CalProx(x, xi_mean, yi_Var):\n",
    "    eps = 0.001 \n",
    "    log = 0\n",
    "    if yi_Var == 0: \n",
    "        numerator = 1\n",
    "        denominator = 1\n",
    "    else:\n",
    "        numerator = np.exp(-(x - xi_mean + eps) ** 2 / (2 * yi_Var))\n",
    "        denominator = np.sqrt(2 * np.pi * yi_Var )\n",
    "    m = numerator/denominator\n",
    "    if m != 0 :\n",
    "        log = np.log(numerator/denominator)\n",
    "    return log"
   ]
  },
  {
   "cell_type": "code",
   "execution_count": 40,
   "metadata": {},
   "outputs": [],
   "source": [
    "def predict(test_data, test_label, mean, var, pyj):\n",
    "    num,row,col = test_data.shape\n",
    "    acc = 0\n",
    "    for i in range(num):\n",
    "        p = np.log(pyj)\n",
    "        testdata = test_data[i]\n",
    "        for j in range(row): \n",
    "            for k in range(col):\n",
    "                xk = testdata[j][k] \n",
    "                p[0] = p[0] + CalProx(xk,mean.T[0][j][k],var.T[0][j][k])\n",
    "                p[1] = p[1] + CalProx(xk,mean.T[1][j][k],var.T[1][j][k])\n",
    "                p[2] = p[2] + CalProx(xk,mean.T[2][j][k],var.T[2][j][k])\n",
    "                p[3] = p[3] + CalProx(xk,mean.T[3][j][k],var.T[3][j][k])\n",
    "                p[4] = p[4] + CalProx(xk,mean.T[4][j][k],var.T[4][j][k])\n",
    "                p[5] = p[5] + CalProx(xk,mean.T[5][j][k],var.T[5][j][k])\n",
    "                p[6] = p[6] + CalProx(xk,mean.T[6][j][k],var.T[6][j][k])\n",
    "                p[7] = p[7] + CalProx(xk,mean.T[7][j][k],var.T[7][j][k])\n",
    "                p[8] = p[8] + CalProx(xk,mean.T[8][j][k],var.T[8][j][k])\n",
    "                p[9] = p[9] + CalProx(xk,mean.T[9][j][k],var.T[9][j][k])\n",
    "        p = np.argmax(p)\n",
    "        acc = acc + (p == test_label[i])\n",
    "        #print('real is: ',test_label[i],'  predict is: ',p)\n",
    "    print('Test accuracy is: ', acc/num)"
   ]
  },
  {
   "cell_type": "code",
   "execution_count": 41,
   "metadata": {},
   "outputs": [],
   "source": [
    "def Guass_beforeNorm(): # Accuracy without normalization\n",
    "    imagefile2 = 'train-images-idx3-ubyte.gz'\n",
    "    labelfile2 = 'train-labels-idx1-ubyte.gz'\n",
    "    imagefile3 = 't10k-images-idx3-ubyte.gz'\n",
    "    labelfile3 = 't10k-labels-idx1-ubyte.gz'\n",
    "    train_data, train_label = get_labeled_data(imagefile2, labelfile2)\n",
    "    test_data, test_label = get_labeled_data(imagefile3, labelfile3)\n",
    "    mean, pyj, pyjk = getMean(train_data,train_label)\n",
    "    Var, numj = getVar(train_data, train_label, mean)\n",
    "    predict(test_data, test_label, mean, Var, pyj)"
   ]
  },
  {
   "cell_type": "code",
   "execution_count": 29,
   "metadata": {
    "scrolled": true
   },
   "outputs": [
    {
     "name": "stdout",
     "output_type": "stream",
     "text": [
      "Test accuracy is:  [0.6421]\n"
     ]
    }
   ],
   "source": [
    "Guass_beforeNorm()"
   ]
  },
  {
   "cell_type": "code",
   "execution_count": 34,
   "metadata": {},
   "outputs": [],
   "source": [
    "def Guass_afterNorm():\n",
    "    imagefile2 = 'train-images-idx3-ubyte.gz'\n",
    "    labelfile2 = 'train-labels-idx1-ubyte.gz'\n",
    "    imagefile3 = 't10k-images-idx3-ubyte.gz'\n",
    "    labelfile3 = 't10k-labels-idx1-ubyte.gz'\n",
    "    train_data, train_label = get_labeled_data(imagefile2, labelfile2)\n",
    "    test_data, test_label = get_labeled_data(imagefile3, labelfile3)\n",
    "    train1 = normalize(train_data)\n",
    "    test1 = normalize(test_data)\n",
    "    Mean, Pyj, pyjk = getMean(train1,train_label)\n",
    "    var, numj = getVar(train1, train_label, Mean)\n",
    "    predict(test1, test_label, Mean, var, Pyj)"
   ]
  },
  {
   "cell_type": "code",
   "execution_count": 35,
   "metadata": {
    "scrolled": true
   },
   "outputs": [
    {
     "name": "stdout",
     "output_type": "stream",
     "text": [
      "Test accuracy is:  [0.778]\n"
     ]
    }
   ],
   "source": [
    "Guass_afterNorm()"
   ]
  },
  {
   "cell_type": "code",
   "execution_count": 36,
   "metadata": {},
   "outputs": [],
   "source": [
    "def Guass_scratchwithoutNorm():\n",
    "    imagefile2 = 'train-images-idx3-ubyte.gz'\n",
    "    labelfile2 = 'train-labels-idx1-ubyte.gz'\n",
    "    imagefile3 = 't10k-images-idx3-ubyte.gz'\n",
    "    labelfile3 = 't10k-labels-idx1-ubyte.gz'\n",
    "    train_data, train_label = get_labeled_data(imagefile2, labelfile2)\n",
    "    test_data, test_label = get_labeled_data(imagefile3, labelfile3)\n",
    "    train = resize(train_data)\n",
    "    test = resize(test_data)\n",
    "    mean, pyj, pyjk = getMean(train,train_label)\n",
    "    Var, numj = getVar(train, train_label, mean)\n",
    "    predict(test, test_label, mean, Var, pyj)"
   ]
  },
  {
   "cell_type": "code",
   "execution_count": 37,
   "metadata": {},
   "outputs": [
    {
     "name": "stdout",
     "output_type": "stream",
     "text": [
      "Test accuracy is:  [0.8334]\n"
     ]
    }
   ],
   "source": [
    "Guass_scratchwithoutNorm()"
   ]
  },
  {
   "cell_type": "code",
   "execution_count": 38,
   "metadata": {},
   "outputs": [],
   "source": [
    "def Guass_scratchwithNorm():\n",
    "    imagefile2 = 'train-images-idx3-ubyte.gz'\n",
    "    labelfile2 = 'train-labels-idx1-ubyte.gz'\n",
    "    imagefile3 = 't10k-images-idx3-ubyte.gz'\n",
    "    labelfile3 = 't10k-labels-idx1-ubyte.gz'\n",
    "    train_data, train_label = get_labeled_data(imagefile2, labelfile2)\n",
    "    test_data, test_label = get_labeled_data(imagefile3, labelfile3)\n",
    "    train = resize(train_data)\n",
    "    test = resize(test_data)\n",
    "    train1 = normalize(train)\n",
    "    test1 = normalize(test)\n",
    "    mean, pyj, pyjk = getMean(train1,train_label)\n",
    "    Var, numj = getVar(train1, train_label, mean)\n",
    "    predict(test1, test_label, mean, Var, pyj)"
   ]
  },
  {
   "cell_type": "code",
   "execution_count": 39,
   "metadata": {},
   "outputs": [
    {
     "name": "stdout",
     "output_type": "stream",
     "text": [
      "Test accuracy is:  [0.821]\n"
     ]
    }
   ],
   "source": [
    "Guass_scratchwithNorm()"
   ]
  },
  {
   "cell_type": "code",
   "execution_count": 32,
   "metadata": {},
   "outputs": [],
   "source": [
    "def Guass_afterNorm_traintest():\n",
    "    imagefile2 = 'train-images-idx3-ubyte.gz'\n",
    "    labelfile2 = 'train-labels-idx1-ubyte.gz'\n",
    "    train_data, train_label = get_labeled_data(imagefile2, labelfile2)\n",
    "    test_label = train_label\n",
    "    train1 = normalize(train_data)\n",
    "    test1 = train1\n",
    "    Mean, Pyj, pyjk = getMean(train1,train_label)\n",
    "    var, numj = getVar(train1, train_label, Mean)\n",
    "    predict(test1, test_label, Mean, var, Pyj)"
   ]
  },
  {
   "cell_type": "code",
   "execution_count": 22,
   "metadata": {},
   "outputs": [
    {
     "name": "stdout",
     "output_type": "stream",
     "text": [
      "Test accuracy is:  [0.77153333]\n"
     ]
    }
   ],
   "source": [
    "Guass_afterNorm_traintest()"
   ]
  },
  {
   "cell_type": "code",
   "execution_count": 33,
   "metadata": {},
   "outputs": [],
   "source": [
    "def Guass_scratchwithNorm_traintest():\n",
    "    imagefile2 = 'train-images-idx3-ubyte.gz'\n",
    "    labelfile2 = 'train-labels-idx1-ubyte.gz'\n",
    "    train_data, train_label = get_labeled_data(imagefile2, labelfile2)\n",
    "    test_label = train_label\n",
    "    train = resize(train_data)\n",
    "    train1 = normalize(train)\n",
    "    test1 = train1\n",
    "    mean, pyj, pyjk = getMean(train1,train_label)\n",
    "    Var, numj = getVar(train1, train_label, mean)\n",
    "    predict(test1, test_label, mean, Var, pyj)"
   ]
  },
  {
   "cell_type": "code",
   "execution_count": 26,
   "metadata": {},
   "outputs": [
    {
     "name": "stdout",
     "output_type": "stream",
     "text": [
      "Test accuracy is:  [0.80648333]\n"
     ]
    }
   ],
   "source": [
    "Guass_scratchwithNorm_traintest()"
   ]
  },
  {
   "cell_type": "code",
   "execution_count": null,
   "metadata": {},
   "outputs": [],
   "source": []
  }
 ],
 "metadata": {
  "kernelspec": {
   "display_name": "Python 3",
   "language": "python",
   "name": "python3"
  },
  "language_info": {
   "codemirror_mode": {
    "name": "ipython",
    "version": 3
   },
   "file_extension": ".py",
   "mimetype": "text/x-python",
   "name": "python",
   "nbconvert_exporter": "python",
   "pygments_lexer": "ipython3",
   "version": "3.6.5"
  }
 },
 "nbformat": 4,
 "nbformat_minor": 2
}
